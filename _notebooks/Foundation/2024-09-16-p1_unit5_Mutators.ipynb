{
 "cells": [
  {
   "cell_type": "markdown",
   "metadata": {},
   "source": [
    "---\n",
    "layout: post\n",
    "title: Unit 5 Classes - Mutator Methods \n",
    "type: issues \n",
    "comments: true\n",
    "hide: true\n",
    "permalink: csa/period1/unit5/mutators\n",
    "menu: nav/CSA_Units/csa_unit5_p1.html\n",
    "---"
   ]
  },
  {
   "cell_type": "markdown",
   "metadata": {},
   "source": [
    "# Mutators/Setters\n",
    "Mutators are used to modify the attribute of an object. They are typically public methods to allow external code to modify the object state.\n",
    "## Naming, Parameters, Returns\n",
    "Mutators are named in the setBlank syntax where the Blank is the name of the field you want to modify. Mutators, like other methods in Java, take one or more parameters. Since mutators are type void as they do not return a value but rather they modify the object's state."
   ]
  },
  {
   "cell_type": "code",
   "execution_count": null,
   "metadata": {
    "vscode": {
     "languageId": "java"
    }
   },
   "outputs": [],
   "source": [
    "// A class representing a Car with attributes like make, model, and speed.\n",
    "public class Car {\n",
    "    // Private fields (attributes)\n",
    "    private String make;\n",
    "    private String model;\n",
    "    private int speed;\n",
    "    // Constructor to initialize attributes\n",
    "    public Car(String make, String model, int speed) {\n",
    "        this.make = make;\n",
    "        this.model = model;\n",
    "        if (speed >= 0) {  // Ensure speed is non-negative\n",
    "            this.speed = speed;\n",
    "        } else {\n",
    "            System.out.println(\"Speed cannot be negative, setting speed to 0.\");\n",
    "            this.speed = 0;\n",
    "        }\n",
    "    }\n",
    "    // Mutator (Setter) for 'make' field\n",
    "    public void setMake(String make) {\n",
    "        this.make = make;\n",
    "    }\n",
    "    // Mutator (Setter) for 'model' field\n",
    "    public void setModel(String model) {\n",
    "        this.model = model;\n",
    "    }\n",
    "    // Mutator (Setter) for 'speed' field\n",
    "    public void setSpeed(int speed) {\n",
    "        if (speed >= 0) { // Ensuring the speed is non-negative\n",
    "            this.speed = speed;\n",
    "        } else {\n",
    "            System.out.println(\"Speed cannot be negative.\");\n",
    "        }\n",
    "    }\n",
    "    // Display car details\n",
    "    public void displayCarInfo() {\n",
    "        System.out.println(\"Make: \" + make);\n",
    "        System.out.println(\"Model: \" + model);\n",
    "        System.out.println(\"Speed: \" + speed + \" km/h\");\n",
    "    }\n",
    "}\n",
    "// Create an instance of the Car class using the constructor and demonstrate the mutators\n",
    "Car myCar = new Car(\"Honda\", \"Civic\", 100);\n",
    "// Displaying car info to verify the set values from constructor\n",
    "myCar.displayCarInfo();\n",
    "// Modifying the cars speed using the mutator\n",
    "myCar.setSpeed(150); // Valid speed update\n",
    "myCar.displayCarInfo();\n",
    "myCar.setSpeed(-50); // Invalid value, should trigger a warning"
   ]
  },
  {
   "cell_type": "markdown",
   "metadata": {},
   "source": [
    "## Popcorn Hack\n",
    "\n",
    "### 1. Create a Class\n",
    "Define a class Person with private fields: String name, int age, and double height. This is done for you.\n",
    "### 2. Create Mutators\n",
    "Write mutator methods setName(String name), setAge(int age) (with validation for non-negative age), and setHeight(double height) (with validation for non-negative height).\n",
    "### 3. Write a Constructor\n",
    "Create a constructor that initializes name, age, and height with provided values.\n",
    "### 4. Test the Mutators\n",
    "In the main method, create a Person object, modify its fields using the mutators, and print the details after each modification."
   ]
  },
  {
   "cell_type": "code",
   "execution_count": null,
   "metadata": {
    "vscode": {
     "languageId": "java"
    }
   },
   "outputs": [],
   "source": [
    "public class Person {\n",
    "    // Private fields\n",
    "    private String name;\n",
    "    private int age;\n",
    "    private double height;\n",
    "}"
   ]
  }
 ],
 "metadata": {
  "kernelspec": {
   "display_name": "Java",
   "language": "java",
   "name": "java"
  },
  "language_info": {
   "codemirror_mode": "java",
   "file_extension": ".jshell",
   "mimetype": "text/x-java-source",
   "name": "Java",
   "pygments_lexer": "java",
   "version": "17.0.12+8-LTS-286"
  }
 },
 "nbformat": 4,
 "nbformat_minor": 2
}
