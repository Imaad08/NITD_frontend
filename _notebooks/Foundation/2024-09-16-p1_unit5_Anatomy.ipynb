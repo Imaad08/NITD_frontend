{
 "cells": [
  {
   "cell_type": "markdown",
   "metadata": {},
   "source": [
    "---\n",
    "layout: post\n",
    "title: Unit 5 Anatomy of a Class(Period 1)\n",
    "comments: true\n",
    "hide: true\n",
    "permalink: /csa/period1/unit5/anatomy\n",
    "menu: nav/CSA_Units/csa_unit5_p1.html\n",
    "---"
   ]
  },
  {
   "cell_type": "markdown",
   "metadata": {},
   "source": [
    "# Anatomy of a Class\n",
    "This notebook will explain the structure of a class in Java, including attributes, methods, and instantiation. It will also include examples and a mini-project that requires fixing broken code."
   ]
  },
  {
   "cell_type": "markdown",
   "metadata": {},
   "source": [
    "![Class Anatomy Diagram](https://jordanblakey.github.io/all_development_notes_2015-2017/Learning%20Java_files/Image.png)"
   ]
  },
  {
   "cell_type": "markdown",
   "metadata": {},
   "source": [
    "## 1. Introduction to Classes\n",
    "- A class in Java is a blueprint for creating objects. It defines a data structure that includes methods and attributes.\n",
    "- Example:\n",
    "\n",
    "\n"
   ]
  },
  {
   "cell_type": "code",
   "execution_count": null,
   "metadata": {
    "vscode": {
     "languageId": "java"
    }
   },
   "outputs": [],
   "source": [
    "public class Car {\n",
    "    // Attributes\n",
    "    String model;\n",
    "    int year;\n",
    "\n",
    "    // Method\n",
    "    void drive() {\n",
    "        System.out.println(\"Driving the car.\");\n",
    "    }\n",
    "}\n"
   ]
  },
  {
   "cell_type": "markdown",
   "metadata": {},
   "source": [
    "This `Car` class has attributes `model` and `year`, and a method `drive()` that prints a message."
   ]
  },
  {
   "cell_type": "markdown",
   "metadata": {},
   "source": [
    "## 2. Attributes and Methods\n",
    "- Attributes (or fields) are variables that belong to an object.\n",
    "- Methods are functions that belong to a class.\n",
    "- Example:\n",
    "\n"
   ]
  },
  {
   "cell_type": "code",
   "execution_count": null,
   "metadata": {
    "vscode": {
     "languageId": "java"
    }
   },
   "outputs": [],
   "source": [
    "\n",
    "public class Person {\n",
    "    // Attributes\n",
    "    String name;\n",
    "    int age;\n",
    "\n",
    "    // Method\n",
    "    void greet() {\n",
    "        System.out.println(\"Hello, my name is \" + name);\n",
    "    }\n",
    "}"
   ]
  },
  {
   "cell_type": "markdown",
   "metadata": {},
   "source": [
    "In this `Person` class, `name` and `age` are attributes, and `greet()` is a method."
   ]
  },
  {
   "cell_type": "markdown",
   "metadata": {},
   "source": [
    "## 3. Constructor\n",
    "- Constructors are special methods used to initialize objects.\n",
    "- They have the same name as the class and do not have a return type.\n",
    "- Example:\n",
    "\n",
    "\n"
   ]
  },
  {
   "cell_type": "code",
   "execution_count": 1,
   "metadata": {
    "vscode": {
     "languageId": "java"
    }
   },
   "outputs": [],
   "source": [
    "public class Person {\n",
    "    String name;\n",
    "    int age;\n",
    "\n",
    "    // Constructor\n",
    "    public Person(String name, int age) {\n",
    "        this.name = name;\n",
    "        this.age = age;\n",
    "    }\n",
    "\n",
    "    void greet() {\n",
    "        System.out.println(\"Hello, my name is \" + name);\n",
    "    }\n",
    "}\n"
   ]
  },
  {
   "cell_type": "markdown",
   "metadata": {},
   "source": [
    "This `Person` class includes a constructor to initialize `name` and `age`."
   ]
  },
  {
   "cell_type": "markdown",
   "metadata": {},
   "source": [
    "## 4. Class vs. Instance Variables\n",
    "- **Instance variables** are attributes specific to each object.\n",
    "- **Class variables** (static variables) are shared among all instances of the class.\n",
    "- Example:\n",
    "\n",
    "\n"
   ]
  },
  {
   "cell_type": "code",
   "execution_count": null,
   "metadata": {
    "vscode": {
     "languageId": "java"
    }
   },
   "outputs": [],
   "source": [
    "public class Car {\n",
    "    // Class variable\n",
    "    static int numberOfCars = 0;\n",
    "\n",
    "    // Instance variables\n",
    "    String model;\n",
    "    int year;\n",
    "\n",
    "    // Constructor\n",
    "    public Car(String model, int year) {\n",
    "        this.model = model;\n",
    "        this.year = year;\n",
    "        numberOfCars++;\n",
    "    }\n",
    "}\n"
   ]
  },
  {
   "cell_type": "markdown",
   "metadata": {},
   "source": [
    "Here, `numberOfCars` is a class variable that keeps track of how many `Car` objects have been created."
   ]
  },
  {
   "cell_type": "markdown",
   "metadata": {},
   "source": [
    "## 5. Mini Project: Fix the Code\n",
    "- Below is a class with broken code. The goal is to fix the class so it properly initializes and uses instance variables.\n",
    "- Broken code:\n",
    "\n",
    "\n",
    "- **Task**: Debug the `Book` class so it correctly initializes `title` and `author`. Consider how the constructor should be modified."
   ]
  },
  {
   "cell_type": "code",
   "execution_count": null,
   "metadata": {
    "vscode": {
     "languageId": "java"
    }
   },
   "outputs": [],
   "source": [
    "public class Book {\n",
    "    String title;\n",
    "    String author;\n",
    "\n",
    "    // Broken constructor\n",
    "    public Book(String title) {\n",
    "        title = title;\n",
    "    }\n",
    "}\n"
   ]
  },
  {
   "cell_type": "markdown",
   "metadata": {},
   "source": [
    "- **Task**: Debug the `Book` class so it correctly initializes `title` and `author`. Consider how the constructor should be modified."
   ]
  }
 ],
 "metadata": {
  "kernelspec": {
   "display_name": "Java",
   "language": "java",
   "name": "java"
  },
  "language_info": {
   "codemirror_mode": "java",
   "file_extension": ".jshell",
   "mimetype": "text/x-java-source",
   "name": "Java",
   "pygments_lexer": "java",
   "version": "19.0.1+10-21"
  }
 },
 "nbformat": 4,
 "nbformat_minor": 2
}
