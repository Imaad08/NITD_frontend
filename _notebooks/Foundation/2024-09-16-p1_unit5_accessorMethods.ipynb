{
 "cells": [
  {
   "cell_type": "markdown",
   "metadata": {},
   "source": [
    "---\n",
    "layout: post\n",
    "title: Unit 5 Classes - Accessor Methods \n",
    "type: issues \n",
    "comments: true\n",
    "hide: true\n",
    "permalink: csa/period1/unit5/accessor\n",
    "menu: nav/CSA_Units/csa_unit5_p1.html\n",
    "---"
   ]
  },
  {
   "cell_type": "markdown",
   "metadata": {},
   "source": [
    "# What is an accessor method? \n",
    "\n",
    "- Allow safe access to instance variables \n",
    "    - Prevents access to variables from outside \n",
    "- AKA \"get methods\" or \"getters\" \n",
    "- If another class or a function needs access to the variable, you use an accessor method \n",
    "\n",
    "## Example: "
   ]
  },
  {
   "cell_type": "code",
   "execution_count": null,
   "metadata": {
    "vscode": {
     "languageId": "csharp"
    }
   },
   "outputs": [],
   "source": [
    "public class snack { \n",
    "    private String name; \n",
    "    private int calories; \n",
    "\n",
    "    public Snack() { \n",
    "        name \"\"; \n",
    "        calories = 0; \n",
    "    }\n",
    "\n",
    "    public Snack (string n, int c) { \n",
    "        name = n; \n",
    "        calories = c; \n",
    "    }\n",
    "\n",
    "    public String getName(){\n",
    "        return Name; \n",
    "    }\n",
    "\n",
    "    public int getCalories() { \n",
    "        return calories; \n",
    "    }\n",
    "}"
   ]
  },
  {
   "cell_type": "markdown",
   "metadata": {},
   "source": [
    "### Private Instance Variables: \n",
    "\n",
    "`private String name; \n",
    "private int calories;`\n",
    "\n",
    "### Default Constructors \n",
    "`public Snack() { \n",
    "        name \"\"; \n",
    "        calories = 0; \n",
    "    }`\n",
    "\n",
    "### Overload Constructor\n",
    "`public Snack (string n, int c) { \n",
    "        name = n; \n",
    "        calories = c; \n",
    "    }`\n",
    "\n",
    "### Accessor Methods \n",
    "` public String getName(){\n",
    "        return Name; \n",
    "    }`\n",
    "\n",
    "`public int getCalories() { \n",
    "        return calories; \n",
    "    }`\n",
    "- Return command reciprocate a copy of the instance variable \n"
   ]
  },
  {
   "cell_type": "markdown",
   "metadata": {},
   "source": [
    "## Requirements\n",
    "\n",
    "- Accessor Methods must be public \n",
    "- Return type must match the variable type \n",
    "    - int = int \n",
    "    - string = string \n",
    "    - etc \n",
    "- REMEMBER PRINTING A VALUE IS NOT THE SAME AS RETURNING \n",
    "- Name appropriately\n",
    "    - Often is `getNameOfVariable` \n",
    "- No parameters \n",
    "\n",
    "#### Notice how the methods from the example match: `public String getName(){` and `public int getCalories()` "
   ]
  },
  {
   "cell_type": "markdown",
   "metadata": {},
   "source": [
    "## Popcorn Hack #1: \n",
    "\n",
    "Below is a constructor of a class, write the acccessor methods for all instance variables. "
   ]
  },
  {
   "cell_type": "code",
   "execution_count": null,
   "metadata": {
    "vscode": {
     "languageId": "csharp"
    }
   },
   "outputs": [],
   "source": [
    "public class Pet { \n",
    "\n",
    "    private String Name; \n",
    "    private String typeOfPet; \n",
    "    private int age;\n",
    "\n",
    "    /* Type Constructors Here */\n",
    "}"
   ]
  },
  {
   "cell_type": "markdown",
   "metadata": {},
   "source": [
    "### How can we print out all the information about an instance of an object?"
   ]
  },
  {
   "cell_type": "code",
   "execution_count": null,
   "metadata": {
    "vscode": {
     "languageId": "csharp"
    }
   },
   "outputs": [],
   "source": [
    "public class SportTester {\n",
    "    public static void main (string[] args) {\n",
    "        sport volley = new Sport(\"volleyball\", 12); \n",
    "        system.out.println(volley);\n",
    "    }\n",
    "\n",
    "    public String toString(String sportName, int numPlayers) {\n",
    "        return \"Sport: \" + sportName + \", Players: \" + numPlayers;\n",
    "    }\n",
    "}\n",
    "\n",
    "\n",
    "/* see what it prints out \n",
    "   This is called hash code in hexadecimal form*/\n",
    "\n"
   ]
  }
 ],
 "metadata": {
  "language_info": {
   "name": "python"
  }
 },
 "nbformat": 4,
 "nbformat_minor": 2
}
