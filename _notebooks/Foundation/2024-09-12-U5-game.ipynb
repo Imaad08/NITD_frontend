{
 "cells": [
  {
   "cell_type": "markdown",
   "metadata": {},
   "source": [
    "---\n",
    "layout: post\n",
    "title: Unit 5 Classes - Game\n",
    "type: issues \n",
    "comments: true\n",
    "hide: true\n",
    "permalink: /csa/period1/unit5/game\n",
    "menu: nav/CSA_Units/csa_unit5_p1.html\n",
    "---"
   ]
  },
  {
   "cell_type": "markdown",
   "metadata": {},
   "source": [
    "this is a game"
   ]
  }
 ],
 "metadata": {
  "language_info": {
   "name": "python"
  }
 },
 "nbformat": 4,
 "nbformat_minor": 2
}
