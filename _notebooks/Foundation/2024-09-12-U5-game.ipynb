{
 "cells": [
  {
   "cell_type": "markdown",
   "metadata": {},
   "source": [
    "---\n",
    "layout: post\n",
    "title: Unit 5 Classes - Game\n",
    "type: issues \n",
    "\n",
    "hide: true\n",
    "permalink: /csa/period1/unit5/game\n",
    "menu: nav/CSA_Units/csa_unit5_p1.html\n",
    "---"
   ]
  },
  {
   "cell_type": "markdown",
   "metadata": {
    "vscode": {
     "languageId": "typescript"
    }
   },
   "source": [
    "<canvas id='gameCanvas'></canvas>\n",
    "\n",
    "<script type=\"module\">\n",
    "    import GameControl from '{{site.baseurl}}/assets/js/rpg/GameControl.js';\n",
    "\n",
    "    // Background data\n",
    "    const image_src = \"{{site.baseurl}}/images/rpg/water.png\";\n",
    "    const image_data = {\n",
    "        pixels: {height: 580, width: 800}\n",
    "    };\n",
    "    const image = {src: image_src, data: image_data};\n",
    "\n",
    "    // Sprite data\n",
    "    const sprite_src = \"{{site.baseurl}}/images/rpg/turtle.png\";\n",
    "    const sprite_data = {\n",
    "        SCALE_FACTOR: 10,\n",
    "        STEP_FACTOR: 1000,\n",
    "        ANIMATION_RATE: 50,\n",
    "        pixels: {height: 280, width: 256},\n",
    "        orientation: {rows: 4, columns: 3 },\n",
    "        down: {row: 0, start: 0, columns: 3 },\n",
    "        left: {row: 1, start: 0, columns: 3 },\n",
    "        right: {row: 2, start: 0, columns: 3 },\n",
    "        up: {row: 3, start: 0, columns: 3 },\n",
    "    };\n",
    "    const sprite = {src: sprite_src, data: sprite_data};\n",
    "\n",
    "    // Assets for game\n",
    "    const assets = {image: image, sprite: sprite};\n",
    "\n",
    "    // Start game engine\n",
    "    GameControl.start(assets);\n",
    "</script>\n"
   ]
  }
 ],
 "metadata": {
  "language_info": {
   "name": "python"
  }
 },
 "nbformat": 4,
 "nbformat_minor": 2
}
