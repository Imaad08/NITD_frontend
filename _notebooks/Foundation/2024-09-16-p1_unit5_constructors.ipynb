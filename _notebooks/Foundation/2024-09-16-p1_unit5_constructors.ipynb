{
 "cells": [
  {
   "cell_type": "markdown",
   "metadata": {},
   "source": [
    "---\n",
    "layout: post\n",
    "title: Unit 5 Classes - Constructors\n",
    "type: issues \n",
    "comments: true\n",
    "hide: true\n",
    "permalink: csa/period1/unit5/constructors\n",
    "menu: nav/CSA_Units/csa_unit5_p1.html\n",
    "---"
   ]
  },
  {
   "cell_type": "markdown",
   "metadata": {},
   "source": [
    "# Introduction to Constructors in Java\n",
    "\n",
    "## What are Constructors?\n",
    "\n",
    "In Java, a constructor is a special method used to initialize objects. The constructor is called when an object of a class is created. It has the same name as the class and does not return any value, not even `void`.\n",
    "\n",
    "### Key Points:\n",
    "- **Same name as class**: The constructor must have the same name as the class.\n",
    "- **No return type**: Constructors do not return any value.\n",
    "- **Used to initialize objects**: They set initial values for object attributes."
   ]
  },
  {
   "cell_type": "markdown",
   "metadata": {},
   "source": [
    "## Types of Constructors\n",
    "\n",
    "### 1. Default Constructor:\n",
    "A constructor that does not accept any parameters. Java provides a default constructor if you don't define any.\n"
   ]
  },
  {
   "cell_type": "code",
   "execution_count": 14,
   "metadata": {
    "vscode": {
     "languageId": "java"
    }
   },
   "outputs": [
    {
     "name": "stdout",
     "output_type": "stream",
     "text": [
      "Unknown\n"
     ]
    }
   ],
   "source": [
    "class Car {\n",
    "    String brand;\n",
    "    \n",
    "    // Default constructor\n",
    "    Car() {\n",
    "        brand = \"Unknown\";\n",
    "    }\n",
    "}\n",
    "\n",
    "Car myCar = new Car();\n",
    "System.out.println(myCar.brand);  // Outputs: Unknown"
   ]
  },
  {
   "cell_type": "markdown",
   "metadata": {},
   "source": [
    "### 2. Parameterized Constructor:\n",
    "A constructor that takes parameters to initialize object attributes with custom values."
   ]
  },
  {
   "cell_type": "code",
   "execution_count": 13,
   "metadata": {
    "vscode": {
     "languageId": "java"
    }
   },
   "outputs": [
    {
     "name": "stdout",
     "output_type": "stream",
     "text": [
      "Toyota\n"
     ]
    }
   ],
   "source": [
    "class Car {\n",
    "    String brand;\n",
    "\n",
    "    // Parameterized constructor\n",
    "    Car(String b) {\n",
    "        brand = b;\n",
    "    }\n",
    "}\n",
    "\n",
    "Car myCar = new Car(\"Toyota\");\n",
    "System.out.println(myCar.brand);  // Outputs: Toyota"
   ]
  },
  {
   "cell_type": "markdown",
   "metadata": {},
   "source": [
    "### 3. **Constructor Overloading**\n",
    "\n",
    "\n",
    "## Constructor Overloading\n",
    "\n",
    "In Java, you can have more than one constructor in a class. This is known as constructor overloading. Each constructor must have a different parameter list.\n",
    "\n",
    "\n"
   ]
  },
  {
   "cell_type": "code",
   "execution_count": 15,
   "metadata": {
    "vscode": {
     "languageId": "java"
    }
   },
   "outputs": [
    {
     "name": "stdout",
     "output_type": "stream",
     "text": [
      "Unknown 0\n",
      "Ford 2020\n"
     ]
    }
   ],
   "source": [
    "class Car {\n",
    "    String brand;\n",
    "    int year;\n",
    "\n",
    "    // Default constructor\n",
    "    Car() {\n",
    "        brand = \"Unknown\";\n",
    "        year = 0;\n",
    "    }\n",
    "\n",
    "    // Parameterized constructor\n",
    "    Car(String b, int y) {\n",
    "        brand = b;\n",
    "        year = y;\n",
    "    }\n",
    "}\n",
    "Car car1 = new Car();\n",
    "Car car2 = new Car(\"Ford\", 2020);\n",
    "System.out.println(car1.brand + \" \" + car1.year);  // Outputs: Unknown 0\n",
    "System.out.println(car2.brand + \" \" + car2.year);  // Outputs: Ford 2020"
   ]
  },
  {
   "cell_type": "markdown",
   "metadata": {},
   "source": [
    "# Escape Room: Constructor Puzzle\n",
    "\n",
    "You're trapped in a room and the only way out is to unlock a door using your Java constructor knowledge!\n",
    "\n",
    "### Rules:\n",
    "- Each clue is a code snippet related to constructors. Solve the problems to reveal the next clue.\n",
    "- Once you complete all tasks, you will receive the \"escape\" message.\n",
    "\n",
    "### Clue 1: \n",
    "The constructor below is missing a key part. Complete the code so that it runs correctly.\n",
    "\n"
   ]
  },
  {
   "cell_type": "code",
   "execution_count": null,
   "metadata": {
    "vscode": {
     "languageId": "java"
    }
   },
   "outputs": [],
   "source": [
    "// CLUE  1 \n",
    "\n",
    "class Door {\n",
    "    String lockCode;\n",
    "\n",
    "    // Add the correct constructor here\n",
    "    Door(_____ lock) {\n",
    "        // Constructor body\n",
    "        lockCode = _____;\n",
    "    }\n",
    "}\n",
    "\n",
    "\n",
    "Door escapeDoor = new Door(\"1234\");\n",
    "System.out.println(escapeDoor.lockCode);  // Should print: 1234\n"
   ]
  },
  {
   "cell_type": "code",
   "execution_count": null,
   "metadata": {
    "vscode": {
     "languageId": "java"
    }
   },
   "outputs": [],
   "source": [
    "//CLUE 2\n",
    "\n",
    "class Room {\n",
    "    String name;\n",
    "    int area;\n",
    "\n",
    "    // Constructor 1\n",
    "    Room(String name) {\n",
    "        this.name = name;\n",
    "    }\n",
    "\n",
    "    // Constructor 2 (missing)\n",
    "    Room(String name, int area) {\n",
    "        // Complete this constructor\n",
    "        // Hint: Use the 'this' keyword\n",
    "    }\n",
    "}\n",
    "\n",
    "Room escapeRoom = new Room(\"Puzzle Room\", 500);\n",
    "System.out.println(\"Room: \" + escapeRoom.name + \", Area: \" + escapeRoom.area);  \n",
    "// Should print: Room: Puzzle Room, Area: 500\n"
   ]
  },
  {
   "cell_type": "code",
   "execution_count": null,
   "metadata": {
    "vscode": {
     "languageId": "java"
    }
   },
   "outputs": [],
   "source": [
    "//CLUE 3\n",
    "class Key {\n",
    "    String keyType;\n",
    "\n",
    "    // Default constructor (to be completed)\n",
    "    Key() {\n",
    "        // Hint: Initialize keyType to a default value, e.g., \"Unknown\"\n",
    "    }\n",
    "\n",
    "    // Parameterized constructor\n",
    "    Key(String keyType) {\n",
    "        this.keyType = keyType;\n",
    "    }\n",
    "}\n",
    "\n",
    "Key defaultKey = new Key();\n",
    "Key customKey = new Key(\"Golden Key\");\n",
    "\n",
    "System.out.println(\"Default Key: \" + defaultKey.keyType);  // Should print: Unknown\n",
    "System.out.println(\"Custom Key: \" + customKey.keyType);    // Should print: Golden Key\n"
   ]
  }
 ],
 "metadata": {
  "kernelspec": {
   "display_name": "Java",
   "language": "java",
   "name": "java"
  },
  "language_info": {
   "codemirror_mode": "java",
   "file_extension": ".jshell",
   "mimetype": "text/x-java-source",
   "name": "Java",
   "pygments_lexer": "java",
   "version": "17.0.12+8-LTS-286"
  }
 },
 "nbformat": 4,
 "nbformat_minor": 2
}
